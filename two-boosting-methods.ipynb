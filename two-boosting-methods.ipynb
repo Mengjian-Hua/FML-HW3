{
 "cells": [
  {
   "cell_type": "code",
   "execution_count": 1,
   "metadata": {},
   "outputs": [],
   "source": [
    "from sklearn.model_selection import cross_validate\n",
    "from sklearn.ensemble import GradientBoostingClassifier\n",
    "import pandas as pd\n",
    "import numpy as np\n",
    "import matplotlib.pyplot as plt"
   ]
  },
  {
   "cell_type": "code",
   "execution_count": 2,
   "metadata": {},
   "outputs": [
    {
     "data": {
      "text/html": [
       "<div>\n",
       "<style scoped>\n",
       "    .dataframe tbody tr th:only-of-type {\n",
       "        vertical-align: middle;\n",
       "    }\n",
       "\n",
       "    .dataframe tbody tr th {\n",
       "        vertical-align: top;\n",
       "    }\n",
       "\n",
       "    .dataframe thead th {\n",
       "        text-align: right;\n",
       "    }\n",
       "</style>\n",
       "<table border=\"1\" class=\"dataframe\">\n",
       "  <thead>\n",
       "    <tr style=\"text-align: right;\">\n",
       "      <th></th>\n",
       "      <th>Rings_label</th>\n",
       "      <th>Gender_-1</th>\n",
       "      <th>Gender_0</th>\n",
       "      <th>Gender_1</th>\n",
       "      <th>Length</th>\n",
       "      <th>Diameter</th>\n",
       "      <th>Height</th>\n",
       "      <th>Whole weight</th>\n",
       "      <th>Shucked weight</th>\n",
       "      <th>Viscera weight</th>\n",
       "      <th>Shell weight</th>\n",
       "    </tr>\n",
       "  </thead>\n",
       "  <tbody>\n",
       "    <tr>\n",
       "      <th>0</th>\n",
       "      <td>1</td>\n",
       "      <td>0</td>\n",
       "      <td>0</td>\n",
       "      <td>1</td>\n",
       "      <td>0.455</td>\n",
       "      <td>0.365</td>\n",
       "      <td>0.095</td>\n",
       "      <td>0.5140</td>\n",
       "      <td>0.2245</td>\n",
       "      <td>0.1010</td>\n",
       "      <td>0.150</td>\n",
       "    </tr>\n",
       "    <tr>\n",
       "      <th>1</th>\n",
       "      <td>-1</td>\n",
       "      <td>0</td>\n",
       "      <td>0</td>\n",
       "      <td>1</td>\n",
       "      <td>0.350</td>\n",
       "      <td>0.265</td>\n",
       "      <td>0.090</td>\n",
       "      <td>0.2255</td>\n",
       "      <td>0.0995</td>\n",
       "      <td>0.0485</td>\n",
       "      <td>0.070</td>\n",
       "    </tr>\n",
       "    <tr>\n",
       "      <th>2</th>\n",
       "      <td>1</td>\n",
       "      <td>1</td>\n",
       "      <td>0</td>\n",
       "      <td>0</td>\n",
       "      <td>0.530</td>\n",
       "      <td>0.420</td>\n",
       "      <td>0.135</td>\n",
       "      <td>0.6770</td>\n",
       "      <td>0.2565</td>\n",
       "      <td>0.1415</td>\n",
       "      <td>0.210</td>\n",
       "    </tr>\n",
       "    <tr>\n",
       "      <th>3</th>\n",
       "      <td>1</td>\n",
       "      <td>0</td>\n",
       "      <td>0</td>\n",
       "      <td>1</td>\n",
       "      <td>0.440</td>\n",
       "      <td>0.365</td>\n",
       "      <td>0.125</td>\n",
       "      <td>0.5160</td>\n",
       "      <td>0.2155</td>\n",
       "      <td>0.1140</td>\n",
       "      <td>0.155</td>\n",
       "    </tr>\n",
       "    <tr>\n",
       "      <th>4</th>\n",
       "      <td>-1</td>\n",
       "      <td>0</td>\n",
       "      <td>1</td>\n",
       "      <td>0</td>\n",
       "      <td>0.330</td>\n",
       "      <td>0.255</td>\n",
       "      <td>0.080</td>\n",
       "      <td>0.2050</td>\n",
       "      <td>0.0895</td>\n",
       "      <td>0.0395</td>\n",
       "      <td>0.055</td>\n",
       "    </tr>\n",
       "  </tbody>\n",
       "</table>\n",
       "</div>"
      ],
      "text/plain": [
       "   Rings_label  Gender_-1  Gender_0  Gender_1  Length  Diameter  Height  \\\n",
       "0            1          0         0         1   0.455     0.365   0.095   \n",
       "1           -1          0         0         1   0.350     0.265   0.090   \n",
       "2            1          1         0         0   0.530     0.420   0.135   \n",
       "3            1          0         0         1   0.440     0.365   0.125   \n",
       "4           -1          0         1         0   0.330     0.255   0.080   \n",
       "\n",
       "   Whole weight  Shucked weight  Viscera weight  Shell weight  \n",
       "0        0.5140          0.2245          0.1010         0.150  \n",
       "1        0.2255          0.0995          0.0485         0.070  \n",
       "2        0.6770          0.2565          0.1415         0.210  \n",
       "3        0.5160          0.2155          0.1140         0.155  \n",
       "4        0.2050          0.0895          0.0395         0.055  "
      ]
     },
     "metadata": {},
     "output_type": "display_data"
    }
   ],
   "source": [
    "cols = ['Gender', 'Length', 'Diameter', 'Height', 'Whole weight', 'Shucked weight', 'Viscera weight', 'Shell weight', 'Rings']\n",
    "df = pd.read_csv('abalone.csv', names = cols)\n",
    "df = df.join(pd.get_dummies(df['Gender'], prefix = 'Gender')).drop(columns = ['Gender'])\n",
    "\n",
    "def label_ring(r):\n",
    "    if r == 9:\n",
    "        return 1\n",
    "    else:\n",
    "        return np.sign(r-9)\n",
    "\n",
    "df['Rings_label'] = df['Rings'].apply(lambda x: label_ring(x))\n",
    "\n",
    "col_order_2 = ['Rings_label','Gender_-1','Gender_0','Gender_1', 'Length', 'Diameter', 'Height', 'Whole weight', 'Shucked weight', 'Viscera weight', 'Shell weight']\n",
    "df =  df[col_order_2]\n",
    "display(df.head())\n",
    "\n",
    "X_train = df.iloc[:3133, 1:].values\n",
    "y_train = df.iloc[:3133,0].values\n",
    "\n",
    "X_all = df.iloc[:,1:].values\n",
    "y_all = df.iloc[:, 0].values"
   ]
  },
  {
   "cell_type": "code",
   "execution_count": 3,
   "metadata": {},
   "outputs": [],
   "source": [
    "ada_CV = []\n",
    "\n",
    "for i in range(10):    \n",
    "    adaBoost = GradientBoostingClassifier(loss = 'exponential', n_estimators = 100*(1+i), max_depth = 1, random_state=0)\n",
    "    adaBoost.fit(X_train, y_train)\n",
    "    \n",
    "    results  = cross_validate(adaBoost, X_all, y_all, cv=10)\n",
    "    ada_CV.append(results['test_score'].mean())\n",
    "\n",
    "logit_CV = []\n",
    "\n",
    "for i in range(10):\n",
    "    logitBoost = GradientBoostingClassifier(loss = 'deviance', n_estimators = 100*(1+i) , max_depth = 1, random_state=0)\n",
    "    logitBoost.fit(X_train, y_train)\n",
    "    \n",
    "    results = cross_validate(logitBoost, X_all, y_all, cv=10)\n",
    "    logit_CV.append(results['test_score'].mean())"
   ]
  },
  {
   "cell_type": "code",
   "execution_count": 9,
   "metadata": {},
   "outputs": [
    {
     "data": {
      "image/png": "[encoded data removed]",
      "text/plain": [
       "<Figure size 432x288 with 1 Axes>"
      ]
     },
     "metadata": {
      "needs_background": "light"
     },
     "output_type": "display_data"
    }
   ],
   "source": [
    "x_axis = [100, 200, 300, 400, 500, 600, 700, 800, 900,1000]\n",
    "plt.plot(x_axis, ada_CV,'-r', label = 'AdaBoost')\n",
    "plt.plot(x_axis, logit_CV,'-g',label = 'LogitBoost')\n",
    "plt.legend()\n",
    "plt.title('Cross Validation Results for Boosting Methods')\n",
    "plt.xlabel('T')\n",
    "plt.ylabel('CV Score')\n",
    "plt.xlim(0,1200,0)\n",
    "plt.show()"
   ]
  },
  {
   "cell_type": "markdown",
   "metadata": {},
   "source": []
  },
  {
   "cell_type": "code",
   "execution_count": null,
   "metadata": {},
   "outputs": [],
   "source": []
  }
 ],
 "metadata": {
  "kernelspec": {
   "display_name": "Python 3",
   "language": "python",
   "name": "python3"
  },
  "language_info": {
   "codemirror_mode": {
    "name": "ipython",
    "version": 3
   },
   "file_extension": ".py",
   "mimetype": "text/x-python",
   "name": "python",
   "nbconvert_exporter": "python",
   "pygments_lexer": "ipython3",
   "version": "3.8.3"
  }
 },
 "nbformat": 4,
 "nbformat_minor": 4
}
